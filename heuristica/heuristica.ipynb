{
 "cells": [
  {
   "cell_type": "markdown",
   "metadata": {},
   "source": [
    "# Heuristica - Smith-Walterman"
   ]
  },
  {
   "cell_type": "markdown",
   "metadata": {},
   "source": [
    "\n",
    "- Utiliza da programação dinâmica para criar uma matrix que correlaciona as duas sequencias em análise e preenche ela utilizando o cálculo de acerto e erros apresentado anteriormente. Consegue encontrar a melhor combinação dentre as duas sequências, porém abre mão de eficiencia para tal. Pois para grandes cadeias o tempo de processamento fica muito longo."
   ]
  },
  {
   "cell_type": "markdown",
   "metadata": {},
   "source": [
    "- Por ser um cálculo matricial, tem seu crescimento calculado como (2N + 1). Isso, assumindo que o tamanho das sequências é igual."
   ]
  },
  {
   "cell_type": "markdown",
   "metadata": {},
   "source": [
    "Podemos analisar abaixo o comportamento do algoritmo. Sempre temos que acrescentar um vazio à frente da sequência, pois a análise feita para atribuir valor à uma célula da matriz requer o valor das células de cima da esquerda e da diagonal."
   ]
  },
  {
   "cell_type": "markdown",
   "metadata": {},
   "source": [
    "- Primeiramente é necessário analisar a célula atual. Se os caracteres que formam ela são iguais é um MATCH de for diferente é um GAP\n",
    "- Então tem que analisar a diagonal. Se o valor da diagonal mais o valor de MATCH ou GAP/MISMATCH for maior que ou igual ao de cima ou o da esquerda, você pega o valor da diagonal, caso contrario pega o valor de cima ou da esquerda.\n",
    "- Ao terminar o preenchimento de toda a matriz, o maior valor dentre as células é o valor máximo da sub sequencia em comum entre as duas sequências.\n",
    "- Então pra achar a sequencia é só percorrer o caminho de volta até chegar ao 0"
   ]
  },
  {
   "cell_type": "markdown",
   "metadata": {},
   "source": [
    "![tbSmith](tbSmith.png)"
   ]
  },
  {
   "cell_type": "markdown",
   "metadata": {},
   "source": [
    "- Em meu código eu crio a Matriz usando dois For's e fazendo um Vector de Vetores de celulas\n",
    "- Essas celulas são structs que eu criei que iram me dizer de onde a célula herdou o valor dela e qual o valor dela, para que assim seja possível minha função recursiva percorrer o caminho de volta e construir as strings necessárias pra printar a subsequencia encontrada."
   ]
  },
  {
   "cell_type": "markdown",
   "metadata": {},
   "source": [
    "O OUTPUT do meu programa está na foto seguinte:\n",
    "\n",
    "![foto](./output-smith.png)"
   ]
  },
  {
   "cell_type": "markdown",
   "metadata": {},
   "source": [
    "Foi usado o seguinte arquivo:\n",
    "\n",
    "[dna.seq](../dna.seq)"
   ]
  }
 ],
 "metadata": {
  "language_info": {
   "name": "python"
  },
  "orig_nbformat": 4
 },
 "nbformat": 4,
 "nbformat_minor": 2
}
