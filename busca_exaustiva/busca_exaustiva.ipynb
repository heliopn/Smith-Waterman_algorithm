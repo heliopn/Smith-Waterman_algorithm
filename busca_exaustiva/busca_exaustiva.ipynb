{
 "cells": [
  {
   "cell_type": "markdown",
   "metadata": {},
   "source": [
    "# Busca Exaustiva"
   ]
  },
  {
   "cell_type": "markdown",
   "metadata": {},
   "source": [
    "    Tem como proposta, criar préviamente todas as possíveis sub sequências de cada sequencia fornecida e analisa-las duas a duas. Ao gerar todas as sub sequencias possíveis, garante que o máximo que sair do programa é sem dúvidas um máximo global. Porém, precisa abrir mão de tempo de processamento para isso.\\\n",
    "\n",
    "- Utiliza a mesma forma de cálculo do Smith_Walterman quando as sequencias tem tamanhos diferentes, pois se não seria necessário fazer a movimentação da substring menor dentro de substrings da substring maior.\n",
    "- Para tentar economizar tempo, se as duas substrings tem mesmo tamanho faz somente um cálculo direto como é feito na busca local."
   ]
  },
  {
   "cell_type": "markdown",
   "metadata": {},
   "source": [
    "    Apesar de tentar melhorar um pouco seu tempo de processamento com essa estratégia, é algo em vão, pois como foi provado no relatório, o fator de crescimento da quantidade de substring é um O(n³) o que fará com que o aumento de tamanho das strings analisadas seja ainda mais crítico em termos de tempo de processamento"
   ]
  },
  {
   "cell_type": "markdown",
   "metadata": {},
   "source": [
    "O OUTPUT do meu programa está na foto seguinte:\n",
    "\n",
    "![foto](./out_exa.png)\n",
    "\n",
    "Foi usado o seguinte arquivo:\n",
    "\n",
    "[dna.seq](../dna.seq)"
   ]
  },
  {
   "cell_type": "markdown",
   "metadata": {},
   "source": []
  }
 ],
 "metadata": {
  "language_info": {
   "name": "python"
  },
  "orig_nbformat": 4
 },
 "nbformat": 4,
 "nbformat_minor": 2
}
