{
 "cells": [
  {
   "cell_type": "markdown",
   "metadata": {},
   "source": [
    "# Busca Local com aleatoriedade para alinhamento"
   ]
  },
  {
   "cell_type": "markdown",
   "metadata": {},
   "source": [
    "    Propõe a utilização de aleatoriedade para a criação de sub sequencias das strings maiores. Isso faz com que a análise seja bem mais dinâmica que a do Smith-Waterman. Pois ao tentar analisar as sub sequencias sem estar na ordem tem a possibilidade de de achar a melhor subsequencia em menos passos que o algoritimo anterior. Apesar de não entregar o melhor caso sempre, consegue entregar ótimos casos as vezes e em menos tempo. \n",
    "    \n",
    "- Todas as subseqs usadas nesse problema tem que ter o mesmo tamanho pois o tipo de cálculo feito é usando comparação direta de strings. Exatamente igual o casos de MISMATCH e MATCH apresentados no relatório.\n",
    "\n",
    "- Criamos um K aleatório menor que o tamanho da primeira sequencia que será o tamanho da sub string(a primeira sequncia é fixa, pois assim na hora de paralelisar o código na GPU não teremos que lidar com o problema de ter que atribuir específicamente uma combinação para cada processador, ao se ter um lado fixo a distribuição fica mais simples)\n",
    "- Depois definimos um p fixo que será igual a k vezes um valor arbitrário.\n",
    "- Em seguida dentro de um while que idemos rodar p vezes, definimos as outras strings de forma aleatória, porém mantendo o tamanho fixo em k."
   ]
  },
  {
   "cell_type": "markdown",
   "metadata": {},
   "source": [
    "O OUTPUT do meu programa está na foto seguinte:\n",
    "\n",
    "![foto](./outBL.png)\n",
    "\n",
    "Foi usado o seguinte arquivo:\n",
    "\n",
    "[dna.seq](../dna.seq)"
   ]
  },
  {
   "cell_type": "markdown",
   "metadata": {},
   "source": []
  }
 ],
 "metadata": {
  "language_info": {
   "name": "python"
  },
  "orig_nbformat": 4
 },
 "nbformat": 4,
 "nbformat_minor": 2
}
